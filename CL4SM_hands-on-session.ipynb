{
 "cells": [
  {
   "attachments": {},
   "cell_type": "markdown",
   "id": "a48e304a",
   "metadata": {},
   "source": [
    "## Part I - Select & Parse\n",
    "* Pick a text sample of your choice among the ones available [in this repository](https://github.com/msang/seminarUniTo/tree/master/data)\n",
    "* Parse your data through the [UDPipe web service](https://lindat.mff.cuni.cz/services/udpipe/)\n",
    "\n",
    " Suggested models:\n",
    " \n",
    "  🇬🇧 ```english-gum-ud-2.10-220711```\n",
    "  🇫🇷 ```french-gsd-ud-2.10-220711```\n",
    "  🇩🇪 ```german-gsd-ud-2.10-220711```\n",
    "  🇮🇹 ```italian-postwita-ud-2.10-220711```\n",
    "  🇪🇸 ```spanish-gsd-ud-2.10-220711```\n"
   ]
  },
  {
   "cell_type": "markdown",
   "id": "7527587c",
   "metadata": {},
   "source": [
    "## Part II - Revise\n",
    "* Save a copy of the UDPipe output file (```processed.conllu```) as ```revised.conllu```\n",
    "* Manually revise the parsed data in the ```revised.conllu``` file using a text editor, or with a GUI (e.g., [Inception](https://inception-project.github.io/)) <br>\n",
    "\n",
    " 🗒️When in doubt, feel free to consult the [UD main guidelines](https://universaldependencies.org/guidelines.html), or the proposed guidelines for the treatment of UGC data ([here](https://link.springer.com/article/10.1007/s10579-022-09581-9/tables/3) and [here](https://link.springer.com/article/10.1007/s10579-022-09581-9/tables/4) the summarizing tables)\n",
    " \n",
    " 💡 For the sake of simplicity, save **both conllu files in the same directory** as this notebook\n",
    " \n",
    " \n",
    "* Validate the file (to make sure it doesn't contain any formatting error)<br>\n",
    " \n",
    " ⚠️ Make sure that the language flag (```--lang```) of the script has the proper ISO code: English = ```en```, French = ```fr```, German = ```de```, Italian = ```it```, Spanish = ```es```\n",
    " "
   ]
  },
  {
   "cell_type": "code",
   "execution_count": null,
   "id": "30907ef3",
   "metadata": {
    "scrolled": true
   },
   "outputs": [],
   "source": [
    "%run tools-master\\validate.py revised.conllu --lang=it"
   ]
  },
  {
   "cell_type": "markdown",
   "id": "53c387d1",
   "metadata": {},
   "source": [
    "## Part III - Evaluate\n",
    "* Evaluate the parser's performance on your data using standard metrics: "
   ]
  },
  {
   "cell_type": "code",
   "execution_count": null,
   "id": "c5d93b7f",
   "metadata": {
    "scrolled": false
   },
   "outputs": [],
   "source": [
    "import conll18_ud_eval as ud_eval\n",
    "\n",
    "gold_file = open('revised.conllu', 'r', encoding='utf-8')\n",
    "system_file = open('processed.conllu', 'r', encoding='utf-8')\n",
    "\n",
    "gold_ud = ud_eval.load_conllu(gold_file)\n",
    "system_ud = ud_eval.load_conllu(system_file)\n",
    "\n",
    "report = ud_eval.evaluate(gold_ud, system_ud)\n",
    "\n",
    "print(f'  \\t Tokens\\t UPOS\\tUFeats\\tLemmas\\t UAS\\t LAS')\n",
    "print(f'F1-score: {report[\"Tokens\"].f1} \\t {report[\"UPOS\"].f1} \\t {report[\"UFeats\"].f1} \\t {report[\"Lemmas\"].f1} \\t {report[\"UAS\"].f1} \\t {report[\"LAS\"].f1}')"
   ]
  },
  {
   "cell_type": "markdown",
   "id": "11cf9f32",
   "metadata": {},
   "source": [
    "* Alternatively, you can run the script via command line, to see the full results:"
   ]
  },
  {
   "cell_type": "code",
   "execution_count": null,
   "id": "ba012cb9",
   "metadata": {
    "scrolled": false
   },
   "outputs": [],
   "source": [
    "%run conll18_ud_eval.py -v revised.conllu processed.conllu"
   ]
  },
  {
   "attachments": {},
   "cell_type": "markdown",
   "id": "0a6699e1",
   "metadata": {},
   "source": [
    "* Repeat the experiment evaluating a different parser's model against your gold file:\n",
    "  * Use one of the following alternative models, based on the language you worked on so far:\n",
    "   \n",
    "      🇬🇧 ```english-ewt-ud-2.10-220711```\n",
    "      🇫🇷 ```french-sequoia-ud-2.10-220711```\n",
    "      🇩🇪 ```german-hdt-ud-2.10-220711```\n",
    "      🇮🇹 ```italian-isdt-ud-2.10-220711```\n",
    "      🇪🇸 ```spanish-ancora-ud-2.10-220711```\n",
    "\n",
    "\n",
    "   * Rename the output file as ```processed_model.conllu```, where ```model``` indicates the name of the model used (i.e. ```ewt``` for English, ```sequoia``` for French, ```hdt``` for German, ```isdt``` for Italian, ```ancora``` for Spanish) \n",
    "   * Re-run the script"
   ]
  },
  {
   "cell_type": "code",
   "execution_count": null,
   "id": "8441b0bb",
   "metadata": {},
   "outputs": [],
   "source": [
    "%run conll18_ud_eval.py -v revised.conllu processed_isdt.conllu"
   ]
  }
 ],
 "metadata": {
  "kernelspec": {
   "display_name": "Python 3 (ipykernel)",
   "language": "python",
   "name": "python3"
  },
  "language_info": {
   "codemirror_mode": {
    "name": "ipython",
    "version": 3
   },
   "file_extension": ".py",
   "mimetype": "text/x-python",
   "name": "python",
   "nbconvert_exporter": "python",
   "pygments_lexer": "ipython3",
   "version": "3.9.5"
  }
 },
 "nbformat": 4,
 "nbformat_minor": 5
}
